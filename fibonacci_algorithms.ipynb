{
 "cells": [
  {
   "cell_type": "code",
   "execution_count": 1,
   "id": "8c7a8497",
   "metadata": {},
   "outputs": [],
   "source": [
    "# Imports\n",
    "import math\n",
    "import time\n",
    "import numpy as np\n",
    "import matplotlib.pyplot as plt"
   ]
  },
  {
   "cell_type": "markdown",
   "id": "5cf56f52",
   "metadata": {},
   "source": [
    "# Functions to compute the *n*th Fibonacci number."
   ]
  },
  {
   "cell_type": "code",
   "execution_count": 2,
   "id": "d89a9207",
   "metadata": {},
   "outputs": [],
   "source": [
    "# Recursive algorithm for finding the nth Fibonacci number.\n",
    "def nth_fib1(n):\n",
    "    if n == 0:\n",
    "        return 0\n",
    "    elif n == 1:\n",
    "        return 1\n",
    "    else:\n",
    "        return nth_fib1(n-2) + nth_fib2(n-1)"
   ]
  },
  {
   "cell_type": "code",
   "execution_count": 7,
   "id": "67f819f3",
   "metadata": {},
   "outputs": [],
   "source": [
    "# An improved algorithm to find the nth Fibonacci number.\n",
    "def nth_fib2(n):\n",
    "    if n == 0:\n",
    "        return 0\n",
    "    elif n == 1:\n",
    "        return 1\n",
    "    else:\n",
    "        fib = [0, 1]\n",
    "        for i in range(n - 1):\n",
    "            fib.append(fib[0] + fib[1])\n",
    "            fib.pop(0)\n",
    "        return fib[-1]\n",
    "\n",
    "\n",
    "#def nth_fib2(n):\n",
    "#    fib = [0, 1]\n",
    "#    if n == 0:\n",
    "#        return 0\n",
    "#    elif n == 1:\n",
    "#        return 1\n",
    "#    else:\n",
    "#        for i in range(n - 1):\n",
    "#            fib.append(fib[-1] + fib[-2])\n",
    "#        return fib[-1]"
   ]
  },
  {
   "cell_type": "code",
   "execution_count": 4,
   "id": "a24c0882",
   "metadata": {},
   "outputs": [],
   "source": [
    "# Algorithm to find the nth Fibonacci number using a closed form formula.\n",
    "def nth_fib3(n):\n",
    "    phi = (1 + math.sqrt(5)) / 2\n",
    "    return int((phi**n - (1 - phi)**n) / math.sqrt(5))"
   ]
  },
  {
   "cell_type": "code",
   "execution_count": 21,
   "id": "2c8f7873",
   "metadata": {},
   "outputs": [
    {
     "data": {
      "image/png": "[encoded data removed]",
      "text/plain": [
       "<Figure size 640x480 with 1 Axes>"
      ]
     },
     "metadata": {},
     "output_type": "display_data"
    }
   ],
   "source": [
    "# A comparison of the times for the 2nd and 3rd algorithms\n",
    "\n",
    "times1 = []\n",
    "for i in range(1200):\n",
    "    start = time.time()\n",
    "    nth_fib1(i)\n",
    "    end = time.time()\n",
    "    times1.append(end - start)\n",
    "    \n",
    "times2 = []\n",
    "for i in range(1200):\n",
    "    start = time.time()\n",
    "    nth_fib2(i)\n",
    "    end = time.time()\n",
    "    times2.append(end - start)\n",
    "    \n",
    "times3 = []\n",
    "for i in range(1200):\n",
    "    start = time.time()\n",
    "    nth_fib3(i)\n",
    "    end = time.time()\n",
    "    times3.append(end - start)    \n",
    "\n",
    "plt.plot(times1)\n",
    "plt.plot(times2)\n",
    "plt.plot(times3)\n",
    "plt.show()    "
   ]
  },
  {
   "cell_type": "markdown",
   "id": "6d07064d",
   "metadata": {},
   "source": [
    "# A closed form formula for the *n*th Fibonacci number."
   ]
  },
  {
   "cell_type": "markdown",
   "id": "de2670fb",
   "metadata": {},
   "source": [
    "We prove the formula used in the function \"nth_fib3(n)\". Our approach will involve expressing powers of the *golden ratio* ($\\varphi$) in the form $a + b \\varphi$.\n",
    "\n",
    "We start by noting that, $\\varphi$ is the solution to the quadratic equation $x^2 - x - 1 = 0$, so $\\varphi^2 = 1 + \\varphi$.\n",
    "\n",
    "We now compute some powers of $\\varphi$ using the above.\n",
    "\n",
    "\\begin{align} \n",
    "  \\varphi^3 &= \\varphi^2 \\cdot \\varphi \\\\\\\\ \n",
    "  &= (1 + \\varphi) \\varphi \\\\\\\\\n",
    "  &= \\varphi + \\varphi^2 \\\\\\\\\n",
    "  &= \\varphi + 1 + \\varphi \\\\\\\\\n",
    "  &= 1 + 2 \\varphi. \\\\\\\\\n",
    "\\end{align}\n",
    "\n",
    "\\begin{align}\n",
    "  \\varphi^4 &= \\varphi^3 \\cdot \\varphi \\\\\\\\\n",
    "            &= (1 + 2 \\varphi) \\varphi \\\\\\\\\n",
    "            &= \\varphi + 2 \\varphi^2 \\\\\\\\\n",
    "            &= \\varphi + 2(1 + \\varphi) \\\\\\\\\n",
    "            &= 2 + 3 \\varphi\n",
    "\\end{align}\n",
    "\n",
    "\\begin{align}\n",
    "  \\varphi^5 &= \\varphi^4 \\cdot \\varphi \\\\\\\\\n",
    "            &= (2 + 3 \\varphi) \\varphi \\\\\\\\\n",
    "            &= 2 \\varphi + 3 \\varphi^2 \\\\\\\\\n",
    "            &= 2 \\varphi + 3 (1 + \\varphi) \\\\\\\n",
    "            &= 3 + 5 \\varphi\n",
    "\\end{align}\n",
    "\n",
    "Let's summarize what we just found.\n",
    "\n",
    "\\begin{align}\n",
    " \\varphi &= 0 + 1 \\varphi \\\\\\\\\n",
    " \\varphi^2 &= 1 + 1 \\varphi \\\\\\\\\n",
    " \\varphi^3 &= 1 + 2 \\varphi \\\\\\\\\n",
    " \\varphi^4 &= 2 + 3 \\varphi \\\\\\\\\n",
    " \\varphi^5 &= 3 + 5 \\varphi\n",
    "\\end{align}\n",
    "\n",
    "At this point it is reasonable to make the following conjecture. (Note that $f_n$ refers to the $n$th Fibonacci number.)\n",
    "\n",
    "$$ \\varphi^n = f_{n-1} + f_n \\varphi$$\n",
    "\n",
    "We need *mathematical induction* to prove this result. We start by noting that $\\varphi^2 = 1 + \\varphi$ and that $f_1 = f_2 = 1$.  (This is called the base case.) We now assume the above claim is true for $n - 1$. (This is called our *inductive hypothesis*.) We will show that the truth of the claim for $n - 1$ implies the truth of the claim for $n$. Then we can compute,\n",
    "\n",
    "\\begin{align}\n",
    "  \\varphi^n &= \\varphi^{n - 1} \\varphi \\\\\\\\\n",
    "            &= (f_{n - 2} + f_{n - 1} \\varphi) \\varphi \\\\\\\\\n",
    "            &= f_{n - 2} \\varphi + f_{n - 1} \\varphi^2 \\\\\\\\\n",
    "            &= f_{n - 2} \\varphi + f_{n - 1} (1 + \\varphi) \\\\\\\\\n",
    "            &= f_{n - 1} + (f_{n - 2} + f_{n - 1}) \\varphi \\\\\\\\\n",
    "            &= f_{n - 1} + f_n \\varphi\n",
    "\\end{align}\n",
    "\n",
    "What does this all mean? We have shown that if the formula for $\\varphi^{n-1}$ is true, then it must also be true for $\\varphi^n$. We explicitly showed it is true for $n = 2$. Since it is true for $n = 2$, it must be true for $n =  3$. Since it is true for $n = 3$, it must be true for $n = 4$. Therefore the formula is true for any positive integer $n$.\n",
    "\n",
    "This formula allows us to find a closed form formula for the $n$th Fibonacci number. Note that $\\phi = \\frac{1 - \\sqrt{5}}{2}$ also solves the equation $x^2 - x - 1$ = 0 and therefore also satisfies the formula $\\phi^n = f_{n - 1} + f_n \\phi$. Then,\n",
    "\n",
    "\\begin{align}\n",
    "  \\varphi^n &= f_{n - 1} + f_n \\varphi \\\\\\\\\n",
    "  \\phi^n &= f_{n - 1} + f_n \\phi \\\\\\\\\n",
    "\\end{align}\n",
    "\n",
    "Subtract the bottom equation from the top.\n",
    "\n",
    "$$\\varphi^n - \\phi^n = f_n (\\varphi - \\phi)$$\n",
    "\n",
    "Therefore $f_n = \\frac{\\varphi^n - \\phi^n}{\\varphi - \\phi}$ which can be simplified as follows.\n",
    "\n",
    "$$f_n = \\frac{\\varphi^n - \\phi^n}{\\sqrt{5}}$$"
   ]
  },
  {
   "cell_type": "code",
   "execution_count": 6,
   "id": "3402e93d",
   "metadata": {},
   "outputs": [
    {
     "data": {
      "text/plain": [
       "[4, 3]"
      ]
     },
     "execution_count": 6,
     "metadata": {},
     "output_type": "execute_result"
    }
   ],
   "source": [
    "list = [5, 4, 3]\n",
    "list.pop(0)\n",
    "list"
   ]
  }
 ],
 "metadata": {
  "kernelspec": {
   "display_name": "Python 3 (ipykernel)",
   "language": "python",
   "name": "python3"
  },
  "language_info": {
   "codemirror_mode": {
    "name": "ipython",
    "version": 3
   },
   "file_extension": ".py",
   "mimetype": "text/x-python",
   "name": "python",
   "nbconvert_exporter": "python",
   "pygments_lexer": "ipython3",
   "version": "3.10.9"
  }
 },
 "nbformat": 4,
 "nbformat_minor": 5
}
